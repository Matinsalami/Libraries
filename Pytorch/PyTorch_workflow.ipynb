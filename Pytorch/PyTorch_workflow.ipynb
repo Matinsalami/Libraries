{
 "cells": [
  {
   "cell_type": "markdown",
   "id": "22be20dc",
   "metadata": {},
   "source": [
    "## LinearRegression Model"
   ]
  },
  {
   "cell_type": "code",
   "execution_count": null,
   "id": "b7aa1aa8",
   "metadata": {},
   "outputs": [],
   "source": [
    "# known parameters\n",
    "weight = 0.7\n",
    "bias = 0.3\n",
    "\n",
    "# data"
   ]
  },
  {
   "cell_type": "code",
   "execution_count": 1,
   "id": "3341dbf9",
   "metadata": {},
   "outputs": [],
   "source": [
    "import torch\n",
    "from torch import nn\n",
    "\n",
    "class LinearRegressionModel(nn.Module):\n",
    "    def __init__(self):\n",
    "        super().__init__()\n",
    "        self.weights = nn.Parameter(torch.randn(1,\n",
    "                                                requires_grad=True,\n",
    "                                                dtype=torch.float32))\n",
    "        self.bias = nn.Parameter(torch.randn(1,\n",
    "                                             requires_grad=True,\n",
    "                                             dtype=torch.float32))\n",
    "        \n",
    "    def forward(self,x:torch.Tensor) -> torch.Tensor:\n",
    "        return self.weights * x + self.bias\n",
    "\n"
   ]
  },
  {
   "cell_type": "code",
   "execution_count": null,
   "id": "dbd74ef1",
   "metadata": {},
   "outputs": [],
   "source": []
  }
 ],
 "metadata": {
  "kernelspec": {
   "display_name": "Python 3",
   "language": "python",
   "name": "python3"
  },
  "language_info": {
   "codemirror_mode": {
    "name": "ipython",
    "version": 3
   },
   "file_extension": ".py",
   "mimetype": "text/x-python",
   "name": "python",
   "nbconvert_exporter": "python",
   "pygments_lexer": "ipython3",
   "version": "3.13.5"
  }
 },
 "nbformat": 4,
 "nbformat_minor": 5
}
