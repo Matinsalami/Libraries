{
 "cells": [
  {
   "cell_type": "markdown",
   "id": "63be82ac",
   "metadata": {},
   "source": [
    "# Manipulating tensors\n",
    "\n",
    "Tensor operations include: \n",
    "\n",
    "* Addition\n",
    "* Subtraction\n",
    "* Multiplication (element-wise)\n",
    "* Division\n",
    "* Matrix multiplication\n"
   ]
  },
  {
   "cell_type": "code",
   "execution_count": 55,
   "id": "8ce190a3",
   "metadata": {},
   "outputs": [
    {
     "data": {
      "text/plain": [
       "tensor([4, 5, 6, 7, 8, 9])"
      ]
     },
     "execution_count": 55,
     "metadata": {},
     "output_type": "execute_result"
    }
   ],
   "source": [
    "import torch\n",
    "tensor = torch.arange(4, 10)\n",
    "tensor"
   ]
  },
  {
   "cell_type": "code",
   "execution_count": 56,
   "id": "7c3fd518",
   "metadata": {},
   "outputs": [
    {
     "data": {
      "text/plain": [
       "tensor([14, 15, 16, 17, 18, 19])"
      ]
     },
     "execution_count": 56,
     "metadata": {},
     "output_type": "execute_result"
    }
   ],
   "source": [
    "tensor + 10"
   ]
  },
  {
   "cell_type": "code",
   "execution_count": 57,
   "id": "c08b7ca1",
   "metadata": {},
   "outputs": [
    {
     "data": {
      "text/plain": [
       "tensor([40, 50, 60, 70, 80, 90])"
      ]
     },
     "execution_count": 57,
     "metadata": {},
     "output_type": "execute_result"
    }
   ],
   "source": [
    "tensor * 10\n"
   ]
  },
  {
   "cell_type": "code",
   "execution_count": 58,
   "id": "41436672",
   "metadata": {},
   "outputs": [
    {
     "data": {
      "text/plain": [
       "tensor([-6, -5, -4, -3, -2, -1])"
      ]
     },
     "execution_count": 58,
     "metadata": {},
     "output_type": "execute_result"
    }
   ],
   "source": [
    "tensor - 10"
   ]
  },
  {
   "cell_type": "code",
   "execution_count": 59,
   "id": "20de705b",
   "metadata": {},
   "outputs": [
    {
     "data": {
      "text/plain": [
       "tensor([0.4000, 0.5000, 0.6000, 0.7000, 0.8000, 0.9000])"
      ]
     },
     "execution_count": 59,
     "metadata": {},
     "output_type": "execute_result"
    }
   ],
   "source": [
    "tensor / 10 "
   ]
  },
  {
   "cell_type": "markdown",
   "id": "312b7db9",
   "metadata": {},
   "source": [
    "We also have some built-in functions for above operations\n",
    "\n",
    "`torch.mul()` , `torch.sub()` , `torch.add()` , `torch.div()`"
   ]
  },
  {
   "cell_type": "markdown",
   "id": "5189f307",
   "metadata": {},
   "source": [
    "## Matrix multiplication\n",
    "\n",
    "\n"
   ]
  },
  {
   "cell_type": "code",
   "execution_count": 60,
   "id": "3fa00870",
   "metadata": {},
   "outputs": [
    {
     "data": {
      "text/plain": [
       "tensor([ 0,  1,  4,  9, 16, 25, 36, 49, 64, 81])"
      ]
     },
     "execution_count": 60,
     "metadata": {},
     "output_type": "execute_result"
    }
   ],
   "source": [
    "# element-wise multiplication\n",
    "tensor = torch.arange(0,10)\n",
    "tensor * tensor"
   ]
  },
  {
   "cell_type": "code",
   "execution_count": 61,
   "id": "e924ad79",
   "metadata": {},
   "outputs": [
    {
     "data": {
      "text/plain": [
       "tensor(285)"
      ]
     },
     "execution_count": 61,
     "metadata": {},
     "output_type": "execute_result"
    }
   ],
   "source": [
    "# Dot product\n",
    "torch.matmul(tensor,tensor)"
   ]
  },
  {
   "cell_type": "markdown",
   "id": "c90400f4",
   "metadata": {},
   "source": [
    "### Matrix multiplication\n",
    "\n",
    "We can use either `torch.matmul()` or `torch.mm()`"
   ]
  },
  {
   "cell_type": "code",
   "execution_count": 62,
   "id": "23e742dd",
   "metadata": {},
   "outputs": [],
   "source": [
    "tensor = torch.rand([3,4])\n",
    "tensor1 = torch.rand([4,3])"
   ]
  },
  {
   "cell_type": "code",
   "execution_count": 63,
   "id": "b1f42b50",
   "metadata": {},
   "outputs": [
    {
     "data": {
      "text/plain": [
       "tensor([[0.4395, 1.1458, 0.6249],\n",
       "        [0.3828, 1.3621, 0.7304],\n",
       "        [0.7911, 2.1748, 1.0153]])"
      ]
     },
     "execution_count": 63,
     "metadata": {},
     "output_type": "execute_result"
    }
   ],
   "source": [
    "torch.matmul(tensor,tensor1)"
   ]
  },
  {
   "cell_type": "code",
   "execution_count": 64,
   "id": "d90cbd7c",
   "metadata": {},
   "outputs": [
    {
     "data": {
      "text/plain": [
       "(tensor([[0.8762, 0.0244, 0.3334, 0.3508],\n",
       "         [0.1163, 0.8896, 0.7305, 0.2842],\n",
       "         [0.4743, 0.8981, 0.6837, 0.8486]]),\n",
       " tensor([[0.8762, 0.1163, 0.4743],\n",
       "         [0.0244, 0.8896, 0.8981],\n",
       "         [0.3334, 0.7305, 0.6837],\n",
       "         [0.3508, 0.2842, 0.8486]]))"
      ]
     },
     "execution_count": 64,
     "metadata": {},
     "output_type": "execute_result"
    }
   ],
   "source": [
    "#  Transpose of a matrix \n",
    "tensor , tensor.T"
   ]
  },
  {
   "cell_type": "markdown",
   "id": "5d28bac3",
   "metadata": {},
   "source": [
    "## finding the min, max, mean, sum, etc (tensor aggregation)"
   ]
  },
  {
   "cell_type": "code",
   "execution_count": 65,
   "id": "eba54cfc",
   "metadata": {},
   "outputs": [
    {
     "data": {
      "text/plain": [
       "tensor(0)"
      ]
     },
     "execution_count": 65,
     "metadata": {},
     "output_type": "execute_result"
    }
   ],
   "source": [
    "# Create a tensor \n",
    "x = torch.arange(0,100,10)\n",
    "torch.min(x)\n",
    "# x.min() also do the same thing"
   ]
  },
  {
   "cell_type": "code",
   "execution_count": 66,
   "id": "4ea03343",
   "metadata": {},
   "outputs": [
    {
     "data": {
      "text/plain": [
       "tensor(90)"
      ]
     },
     "execution_count": 66,
     "metadata": {},
     "output_type": "execute_result"
    }
   ],
   "source": [
    "torch.max(x)\n",
    "# x.max() also do the same thing"
   ]
  },
  {
   "cell_type": "code",
   "execution_count": 67,
   "id": "70623d59",
   "metadata": {},
   "outputs": [
    {
     "data": {
      "text/plain": [
       "(tensor(45.), tensor(45.))"
      ]
     },
     "execution_count": 67,
     "metadata": {},
     "output_type": "execute_result"
    }
   ],
   "source": [
    "# Before perforing the mean, we should change the datatype to float\n",
    "x.type(torch.float32).mean(), torch.mean(x.type(torch.float32))"
   ]
  },
  {
   "cell_type": "code",
   "execution_count": 68,
   "id": "bdce81a5",
   "metadata": {},
   "outputs": [
    {
     "data": {
      "text/plain": [
       "(tensor(450), tensor(450))"
      ]
     },
     "execution_count": 68,
     "metadata": {},
     "output_type": "execute_result"
    }
   ],
   "source": [
    "#Find the sum\n",
    "torch.sum(x), x.sum()"
   ]
  },
  {
   "cell_type": "markdown",
   "id": "2ee97dc5",
   "metadata": {},
   "source": [
    "## Finding the positional max and min"
   ]
  },
  {
   "cell_type": "code",
   "execution_count": 69,
   "id": "e484348e",
   "metadata": {},
   "outputs": [
    {
     "data": {
      "text/plain": [
       "tensor(9)"
      ]
     },
     "execution_count": 69,
     "metadata": {},
     "output_type": "execute_result"
    }
   ],
   "source": [
    "x.argmax()"
   ]
  },
  {
   "cell_type": "code",
   "execution_count": 70,
   "id": "94931460",
   "metadata": {},
   "outputs": [
    {
     "data": {
      "text/plain": [
       "tensor(0)"
      ]
     },
     "execution_count": 70,
     "metadata": {},
     "output_type": "execute_result"
    }
   ],
   "source": [
    "x.argmin()"
   ]
  },
  {
   "cell_type": "markdown",
   "id": "b47d1c01",
   "metadata": {},
   "source": [
    "## Reshaping, stacking, squezzing and unsquizzing tensors \n",
    "\n",
    "* Reshaping - reshapes an input tensor to a defined shape \n",
    "* View - Return a view of an input tensor of certain shape but keep the same memory as the original tensor \n",
    "* Stacking - combine multiple tensors on top of each other (vstack) or side by side (hstack)\n",
    "* Squeeze - removes all 1 dimensions from a tensor\n",
    "* Unsqueeze - add a 1 dimension to a target tensor\n",
    "* Permute - Return a view of the input with dimensions permuted in a certain way"
   ]
  },
  {
   "cell_type": "code",
   "execution_count": 71,
   "id": "07692e0b",
   "metadata": {},
   "outputs": [
    {
     "data": {
      "text/plain": [
       "torch.Size([12])"
      ]
     },
     "execution_count": 71,
     "metadata": {},
     "output_type": "execute_result"
    }
   ],
   "source": [
    "# Reshaping a tensor\n",
    "tensor = torch.arange(1,13)\n",
    "tensor.shape"
   ]
  },
  {
   "cell_type": "markdown",
   "id": "7498f6a4",
   "metadata": {},
   "source": [
    "### Reshape"
   ]
  },
  {
   "cell_type": "code",
   "execution_count": 72,
   "id": "ea6853e3",
   "metadata": {},
   "outputs": [
    {
     "data": {
      "text/plain": [
       "tensor([[ 1,  2,  3,  4],\n",
       "        [ 5,  6,  7,  8],\n",
       "        [ 9, 10, 11, 12]])"
      ]
     },
     "execution_count": 72,
     "metadata": {},
     "output_type": "execute_result"
    }
   ],
   "source": [
    "# With reshape method of tensor class we can reshape the tensor to any arbitrary tensor if valid (The  shape of the outpu tensor is compatible)\n",
    "tensor.reshape([3,4])"
   ]
  },
  {
   "cell_type": "markdown",
   "id": "069db70c",
   "metadata": {},
   "source": [
    "### View"
   ]
  },
  {
   "cell_type": "code",
   "execution_count": 73,
   "id": "fca314f5",
   "metadata": {},
   "outputs": [
    {
     "data": {
      "text/plain": [
       "tensor([[ 1,  2,  3,  4],\n",
       "        [ 5,  6,  7,  8],\n",
       "        [ 9, 10, 11, 12]])"
      ]
     },
     "execution_count": 73,
     "metadata": {},
     "output_type": "execute_result"
    }
   ],
   "source": [
    "# View is exactly like reshape, but the new tensor is stored in the original tensor.\n",
    "z = tensor.view(3,4)\n",
    "z"
   ]
  },
  {
   "cell_type": "code",
   "execution_count": 74,
   "id": "c778e445",
   "metadata": {},
   "outputs": [
    {
     "data": {
      "text/plain": [
       "(tensor([[ 5,  2,  3,  4],\n",
       "         [ 5,  6,  7,  8],\n",
       "         [ 5, 10, 11, 12]]),\n",
       " tensor([ 5,  2,  3,  4,  5,  6,  7,  8,  5, 10, 11, 12]))"
      ]
     },
     "execution_count": 74,
     "metadata": {},
     "output_type": "execute_result"
    }
   ],
   "source": [
    "# Changing z -----> changing original tensor\n",
    "z[: , 0] = 5\n",
    "z, tensor"
   ]
  },
  {
   "cell_type": "markdown",
   "id": "3b0e87e8",
   "metadata": {},
   "source": [
    "### Stack"
   ]
  },
  {
   "cell_type": "code",
   "execution_count": 75,
   "id": "dcd091d8",
   "metadata": {},
   "outputs": [],
   "source": [
    "# we use stack to put together some tensors. with dim=0 we stack them verticaly, with dim=1 we stack them horizontally \n",
    "tensor_stacked = torch.stack([x,x,x,x], dim=1)"
   ]
  },
  {
   "cell_type": "code",
   "execution_count": 76,
   "id": "6d0f72bd",
   "metadata": {},
   "outputs": [
    {
     "data": {
      "text/plain": [
       "(tensor([[ 0,  0,  0,  0],\n",
       "         [10, 10, 10, 10],\n",
       "         [20, 20, 20, 20],\n",
       "         [30, 30, 30, 30],\n",
       "         [40, 40, 40, 40],\n",
       "         [50, 50, 50, 50],\n",
       "         [60, 60, 60, 60],\n",
       "         [70, 70, 70, 70],\n",
       "         [80, 80, 80, 80],\n",
       "         [90, 90, 90, 90]]),\n",
       " torch.Size([10, 4]))"
      ]
     },
     "execution_count": 76,
     "metadata": {},
     "output_type": "execute_result"
    }
   ],
   "source": [
    "tensor_stacked,tensor_stacked.shape"
   ]
  },
  {
   "cell_type": "markdown",
   "id": "2182f37a",
   "metadata": {},
   "source": [
    "### Squeezing and unsqueezing"
   ]
  },
  {
   "cell_type": "code",
   "execution_count": 77,
   "id": "c272b355",
   "metadata": {},
   "outputs": [
    {
     "data": {
      "text/plain": [
       "torch.Size([1, 20])"
      ]
     },
     "execution_count": 77,
     "metadata": {},
     "output_type": "execute_result"
    }
   ],
   "source": [
    "# torch.unsqueeze adds a single dimension to the target tensor\n",
    "x = torch.arange(0,100,5)\n",
    "y = x.unsqueeze(dim=0)\n",
    "y.shape"
   ]
  },
  {
   "cell_type": "code",
   "execution_count": 78,
   "id": "6315e4fb",
   "metadata": {},
   "outputs": [
    {
     "data": {
      "text/plain": [
       "torch.Size([20])"
      ]
     },
     "execution_count": 78,
     "metadata": {},
     "output_type": "execute_result"
    }
   ],
   "source": [
    "# In contrast, torch.squeeze removes the single dimension from the target tensor\n",
    "z = y.squeeze(dim=0)\n",
    "z.shape"
   ]
  },
  {
   "cell_type": "markdown",
   "id": "a67df6f1",
   "metadata": {},
   "source": [
    "### Permute"
   ]
  },
  {
   "cell_type": "code",
   "execution_count": 79,
   "id": "79ce4cf9",
   "metadata": {},
   "outputs": [
    {
     "name": "stdout",
     "output_type": "stream",
     "text": [
      "Previous shape of the tensor: torch.Size([224, 224, 3])\n",
      "New shape of the tensor: torch.Size([3, 224, 224])\n"
     ]
    }
   ],
   "source": [
    "# permute allows to change the dimension order of the tensor\n",
    "x_original = torch.rand(size=(224,224,3))\n",
    "x_permuted = x_original.permute(2,0,1)\n",
    "\n",
    "print(f\"Previous shape of the tensor: {x_original.shape}\")\n",
    "print(f\"New shape of the tensor: {x_permuted.shape}\")"
   ]
  },
  {
   "cell_type": "markdown",
   "id": "6e1e4685",
   "metadata": {},
   "source": [
    "## Indexing"
   ]
  },
  {
   "cell_type": "code",
   "execution_count": 81,
   "id": "695b4295",
   "metadata": {},
   "outputs": [
    {
     "data": {
      "text/plain": [
       "tensor([[[1, 2, 3],\n",
       "         [4, 5, 6],\n",
       "         [7, 8, 9]]])"
      ]
     },
     "execution_count": 81,
     "metadata": {},
     "output_type": "execute_result"
    }
   ],
   "source": [
    "x = torch.arange(1,10).reshape(1,3,3)\n",
    "x"
   ]
  },
  {
   "cell_type": "code",
   "execution_count": 82,
   "id": "116a0d9a",
   "metadata": {},
   "outputs": [
    {
     "data": {
      "text/plain": [
       "tensor([[1, 2, 3],\n",
       "        [4, 5, 6],\n",
       "        [7, 8, 9]])"
      ]
     },
     "execution_count": 82,
     "metadata": {},
     "output_type": "execute_result"
    }
   ],
   "source": [
    "x[0]"
   ]
  },
  {
   "cell_type": "code",
   "execution_count": 86,
   "id": "83fe6c59",
   "metadata": {},
   "outputs": [
    {
     "data": {
      "text/plain": [
       "tensor([[1, 2, 3],\n",
       "        [4, 5, 6],\n",
       "        [7, 8, 9]])"
      ]
     },
     "execution_count": 86,
     "metadata": {},
     "output_type": "execute_result"
    }
   ],
   "source": [
    "x[0, :, :]"
   ]
  },
  {
   "cell_type": "code",
   "execution_count": 88,
   "id": "c35b1f0a",
   "metadata": {},
   "outputs": [
    {
     "data": {
      "text/plain": [
       "tensor([[4, 5, 6]])"
      ]
     },
     "execution_count": 88,
     "metadata": {},
     "output_type": "execute_result"
    }
   ],
   "source": [
    "x[:,1,:]"
   ]
  },
  {
   "cell_type": "code",
   "execution_count": 89,
   "id": "39b41fd1",
   "metadata": {},
   "outputs": [
    {
     "data": {
      "text/plain": [
       "tensor([[3, 6, 9]])"
      ]
     },
     "execution_count": 89,
     "metadata": {},
     "output_type": "execute_result"
    }
   ],
   "source": [
    "x[:,:,2]"
   ]
  },
  {
   "cell_type": "code",
   "execution_count": 90,
   "id": "9cf2286d",
   "metadata": {},
   "outputs": [
    {
     "data": {
      "text/plain": [
       "tensor([9])"
      ]
     },
     "execution_count": 90,
     "metadata": {},
     "output_type": "execute_result"
    }
   ],
   "source": [
    "x[:,-1,-1]"
   ]
  },
  {
   "cell_type": "code",
   "execution_count": 91,
   "id": "47a3d9be",
   "metadata": {},
   "outputs": [
    {
     "data": {
      "text/plain": [
       "tensor([[3, 6, 9]])"
      ]
     },
     "execution_count": 91,
     "metadata": {},
     "output_type": "execute_result"
    }
   ],
   "source": [
    "x[:,:,-1]"
   ]
  },
  {
   "cell_type": "markdown",
   "id": "bc3afec1",
   "metadata": {},
   "source": [
    "## PyTorch tensors and NumPy\n",
    "* To change the data from NumPy array to tensor in PyTorch ----> `torch.from_numpy(ndarray)`\n",
    "* To change the data from tensor to NumPy array ----> `torch.Tensor.numpy()`"
   ]
  },
  {
   "cell_type": "code",
   "execution_count": 97,
   "id": "7ef8a824",
   "metadata": {},
   "outputs": [
    {
     "data": {
      "text/plain": [
       "(dtype('float64'), torch.float64)"
      ]
     },
     "execution_count": 97,
     "metadata": {},
     "output_type": "execute_result"
    }
   ],
   "source": [
    "import numpy as np\n",
    "\n",
    "array = np.arange(1.,10.)\n",
    "tensor = torch.from_numpy(array)\n",
    "array.dtype, tensor.dtype"
   ]
  },
  {
   "cell_type": "code",
   "execution_count": 99,
   "id": "21651ed1",
   "metadata": {},
   "outputs": [
    {
     "data": {
      "text/plain": [
       "torch.float32"
      ]
     },
     "execution_count": 99,
     "metadata": {},
     "output_type": "execute_result"
    }
   ],
   "source": [
    "torch.arange(0.,10.).dtype"
   ]
  },
  {
   "cell_type": "markdown",
   "id": "30ca81f3",
   "metadata": {},
   "source": [
    "## Random Seed"
   ]
  },
  {
   "cell_type": "code",
   "execution_count": 100,
   "id": "e0d82738",
   "metadata": {},
   "outputs": [
    {
     "name": "stdout",
     "output_type": "stream",
     "text": [
      "tensor([[True, True, True],\n",
      "        [True, True, True],\n",
      "        [True, True, True]])\n"
     ]
    }
   ],
   "source": [
    "RANDOM_SEED = 42\n",
    "torch.manual_seed(RANDOM_SEED)\n",
    "tensor_a = torch.rand(3,3)\n",
    "\n",
    "torch.manual_seed(RANDOM_SEED)\n",
    "tensor_b = torch.rand(3,3)\n",
    "\n",
    "print(tensor_a == tensor_b)"
   ]
  },
  {
   "cell_type": "markdown",
   "id": "4b474949",
   "metadata": {},
   "source": [
    "## Differnce between a GPU tensor and a CPU tensor\n",
    "\n",
    "A tensor can be both in GPU and CPU. But if we transfer it to GPU, we cannot transform the tensor into *Numpy array*.\n"
   ]
  },
  {
   "cell_type": "code",
   "execution_count": 12,
   "id": "410895ae",
   "metadata": {},
   "outputs": [
    {
     "data": {
      "text/plain": [
       "'cpu'"
      ]
     },
     "execution_count": 12,
     "metadata": {},
     "output_type": "execute_result"
    }
   ],
   "source": [
    "import torch \n",
    "import numpy as np\n",
    "tensor = torch.rand(2,2,device='cuda')\n",
    "tensor = tensor.cpu().numpy()\n",
    "tensor.device"
   ]
  },
  {
   "cell_type": "code",
   "execution_count": null,
   "id": "06293ffa",
   "metadata": {},
   "outputs": [],
   "source": []
  },
  {
   "cell_type": "code",
   "execution_count": null,
   "id": "8e955f75",
   "metadata": {},
   "outputs": [],
   "source": []
  }
 ],
 "metadata": {
  "kernelspec": {
   "display_name": "Python 3",
   "language": "python",
   "name": "python3"
  },
  "language_info": {
   "codemirror_mode": {
    "name": "ipython",
    "version": 3
   },
   "file_extension": ".py",
   "mimetype": "text/x-python",
   "name": "python",
   "nbconvert_exporter": "python",
   "pygments_lexer": "ipython3",
   "version": "3.13.5"
  }
 },
 "nbformat": 4,
 "nbformat_minor": 5
}
